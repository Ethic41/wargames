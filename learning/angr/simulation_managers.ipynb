{
 "cells": [
  {
   "cell_type": "code",
   "execution_count": 6,
   "metadata": {},
   "outputs": [
    {
     "data": {
      "text/plain": [
       "[<SimState @ 0x400580>]"
      ]
     },
     "execution_count": 6,
     "metadata": {},
     "output_type": "execute_result"
    }
   ],
   "source": [
    "#!/usr/bin/env python\n",
    "# -=-<[ Bismillahirrahmanirrahim ]>-=-\n",
    "# -*- coding: utf-8 -*-\n",
    "# @Date    : 2022-03-13 08:18:42\n",
    "# @Author  : Dahir Muhammad Dahir (dahirmuhammad3@gmail.com)\n",
    "# @Link    : link\n",
    "# @Version : 1.0.0\n",
    "\n",
    "\n",
    "import angr, monkeyhex\n",
    "\n",
    "\n",
    "project = angr.Project('examples/fauxware/fauxware', auto_load_libs=False)\n",
    "\n",
    "state = project.factory.entry_state()\n",
    "sim_mgr = project.factory.simgr(state)\n",
    "sim_mgr.active"
   ]
  },
  {
   "cell_type": "code",
   "execution_count": 7,
   "metadata": {},
   "outputs": [
    {
     "name": "stdout",
     "output_type": "stream",
     "text": [
      "        _start:\n",
      "400580  xor     ebp, ebp\n",
      "400582  mov     r9, rdx\n",
      "400585  pop     rsi\n",
      "400586  mov     rdx, rsp\n",
      "400589  and     rsp, 0xfffffffffffffff0\n",
      "40058d  push    rax\n",
      "40058e  push    rsp\n",
      "40058f  mov     r8, __libc_csu_fini\n",
      "400596  mov     rcx, __libc_csu_init\n",
      "40059d  mov     rdi, main\n",
      "4005a4  call    __libc_start_main\n"
     ]
    }
   ],
   "source": [
    "block = project.factory.block(project.entry)\n",
    "block.pp()"
   ]
  },
  {
   "cell_type": "code",
   "execution_count": 8,
   "metadata": {},
   "outputs": [
    {
     "name": "stderr",
     "output_type": "stream",
     "text": [
      "WARNING | 2022-03-13 08:56:01,607 | angr.storage.memory_mixins.default_filler_mixin | Filling memory at 0x7fffffffffeff7c with 4 unconstrained bytes referenced from 0x400585 (_start+0x5 in fauxware (0x400585))\n"
     ]
    },
    {
     "data": {
      "text/plain": [
       "<SimulationManager with 1 active>"
      ]
     },
     "execution_count": 8,
     "metadata": {},
     "output_type": "execute_result"
    }
   ],
   "source": [
    "sim_mgr.step()"
   ]
  },
  {
   "cell_type": "code",
   "execution_count": 9,
   "metadata": {},
   "outputs": [
    {
     "data": {
      "text/plain": [
       "[<SimState @ 0x400540>]"
      ]
     },
     "execution_count": 9,
     "metadata": {},
     "output_type": "execute_result"
    }
   ],
   "source": [
    "sim_mgr.active"
   ]
  },
  {
   "cell_type": "code",
   "execution_count": 12,
   "metadata": {},
   "outputs": [
    {
     "name": "stdout",
     "output_type": "stream",
     "text": [
      "        __libc_start_main:\n",
      "400540  jmp     qword ptr [0x601018]\n"
     ]
    }
   ],
   "source": [
    "sim_mgr.active[0].block().pp()"
   ]
  },
  {
   "cell_type": "code",
   "execution_count": 13,
   "metadata": {},
   "outputs": [
    {
     "name": "stderr",
     "output_type": "stream",
     "text": [
      "WARNING | 2022-03-13 09:00:37,162 | angr.storage.memory_mixins.default_filler_mixin | Filling memory at 0x7fffffffffeff60 with 8 unconstrained bytes referenced from 0x700020 (strcmp+0x0 in extern-address space (0x20))\n"
     ]
    },
    {
     "data": {
      "text/plain": [
       "<SimulationManager with 2 active>"
      ]
     },
     "execution_count": 13,
     "metadata": {},
     "output_type": "execute_result"
    }
   ],
   "source": [
    "while len(sim_mgr.active) == 1:\n",
    "    sim_mgr.step()\n",
    "\n",
    "sim_mgr"
   ]
  },
  {
   "cell_type": "code",
   "execution_count": 14,
   "metadata": {},
   "outputs": [
    {
     "data": {
      "text/plain": [
       "[<SimState @ 0x400692>, <SimState @ 0x400699>]"
      ]
     },
     "execution_count": 14,
     "metadata": {},
     "output_type": "execute_result"
    }
   ],
   "source": [
    "sim_mgr.active"
   ]
  },
  {
   "cell_type": "code",
   "execution_count": 15,
   "metadata": {},
   "outputs": [
    {
     "name": "stderr",
     "output_type": "stream",
     "text": [
      "WARNING | 2022-03-13 09:02:55,510 | angr.state_plugins.posix | Trying to open unknown file b'\\x00\\x00\\x00\\x00\\x00\\x00\\x00\\x00' - created a symbolic file since ALL_FILES_EXIST is set\n",
      "WARNING | 2022-03-13 09:02:55,568 | angr.storage.memory_mixins.default_filler_mixin | Filling memory at 0x7fffffffffefef0 with 8 unconstrained bytes referenced from 0x700010 (read+0x0 in extern-address space (0x10))\n",
      "WARNING | 2022-03-13 09:02:55,613 | angr.storage.memory_mixins.default_filler_mixin | Filling memory at 0x7fffffffffeff20 with 8 unconstrained bytes referenced from 0x700020 (strcmp+0x0 in extern-address space (0x20))\n"
     ]
    },
    {
     "data": {
      "text/plain": [
       "<SimulationManager with 3 deadended>"
      ]
     },
     "execution_count": 15,
     "metadata": {},
     "output_type": "execute_result"
    }
   ],
   "source": [
    "sim_mgr.run()\n",
    "sim_mgr"
   ]
  },
  {
   "cell_type": "code",
   "execution_count": 16,
   "metadata": {},
   "outputs": [
    {
     "data": {
      "text/plain": [
       "[]"
      ]
     },
     "execution_count": 16,
     "metadata": {},
     "output_type": "execute_result"
    }
   ],
   "source": [
    "sim_mgr.active"
   ]
  },
  {
   "cell_type": "code",
   "execution_count": 17,
   "metadata": {},
   "outputs": [
    {
     "data": {
      "text/plain": [
       "<SimulationManager with 1 deadended, 2 authenticated>"
      ]
     },
     "execution_count": 17,
     "metadata": {},
     "output_type": "execute_result"
    }
   ],
   "source": [
    "sim_mgr.move(from_stash='deadended', to_stash='authenticated', filter_func=lambda s: b'Welcome' in s.posix.dumps(1))\n",
    "sim_mgr"
   ]
  },
  {
   "cell_type": "code",
   "execution_count": 18,
   "metadata": {},
   "outputs": [
    {
     "data": {
      "text/plain": [
       "[]"
      ]
     },
     "execution_count": 18,
     "metadata": {},
     "output_type": "execute_result"
    }
   ],
   "source": [
    "sim_mgr.active"
   ]
  },
  {
   "cell_type": "code",
   "execution_count": 19,
   "metadata": {},
   "outputs": [
    {
     "data": {
      "text/plain": [
       "[<SimState @ 0x801058>, <SimState @ 0x801058>]"
      ]
     },
     "execution_count": 19,
     "metadata": {},
     "output_type": "execute_result"
    }
   ],
   "source": [
    "sim_mgr.authenticated"
   ]
  },
  {
   "cell_type": "code",
   "execution_count": 24,
   "metadata": {},
   "outputs": [
    {
     "name": "stdout",
     "output_type": "stream",
     "text": [
      "0x700030\n",
      "0x801058\n",
      "0x801058\n"
     ]
    }
   ],
   "source": [
    "import monkeyhex\n",
    "\n",
    "for s in sim_mgr.deadended + sim_mgr.authenticated:\n",
    "    print(hex(s.addr))\n"
   ]
  },
  {
   "cell_type": "code",
   "execution_count": 25,
   "metadata": {},
   "outputs": [
    {
     "data": {
      "text/plain": [
       "<SimState @ 0x700030>"
      ]
     },
     "execution_count": 25,
     "metadata": {},
     "output_type": "execute_result"
    }
   ],
   "source": [
    "sim_mgr.one_deadended"
   ]
  },
  {
   "cell_type": "code",
   "execution_count": 26,
   "metadata": {},
   "outputs": [
    {
     "data": {
      "text/plain": [
       "<SimState @ 0x801058>"
      ]
     },
     "execution_count": 26,
     "metadata": {},
     "output_type": "execute_result"
    }
   ],
   "source": [
    "sim_mgr.one_authenticated"
   ]
  },
  {
   "cell_type": "code",
   "execution_count": 27,
   "metadata": {},
   "outputs": [
    {
     "data": {
      "text/plain": [
       "MP([<SimState @ 0x801058>, <SimState @ 0x801058>])"
      ]
     },
     "execution_count": 27,
     "metadata": {},
     "output_type": "execute_result"
    }
   ],
   "source": [
    "sim_mgr.mp_authenticated"
   ]
  },
  {
   "cell_type": "code",
   "execution_count": 28,
   "metadata": {},
   "outputs": [
    {
     "data": {
      "text/plain": [
       "MP([b'\\x00\\x00\\x00\\x00\\x00\\x00\\x00\\x00\\x00SOSNEAKY\\x00', b'\\x00\\x00\\x00\\x00\\x00\\x00\\x00\\x00\\x00@@@@\\x80@@@\\x00'])"
      ]
     },
     "execution_count": 28,
     "metadata": {},
     "output_type": "execute_result"
    }
   ],
   "source": [
    "sim_mgr.mp_authenticated.posix.dumps(0)"
   ]
  },
  {
   "cell_type": "code",
   "execution_count": 30,
   "metadata": {},
   "outputs": [],
   "source": [
    "project = angr.Project(\"examples/CSCI-4968-MBE/challenges/crackme0x00a/crackme0x00a\")\n",
    "\n",
    "sim_mgr = project.factory.simgr()"
   ]
  },
  {
   "cell_type": "code",
   "execution_count": 31,
   "metadata": {},
   "outputs": [
    {
     "name": "stderr",
     "output_type": "stream",
     "text": [
      "WARNING | 2022-03-13 10:03:10,859 | angr.storage.memory_mixins.default_filler_mixin | Filling register edi with 4 unconstrained bytes referenced from 0x8048571 (__libc_csu_init+0x1 in crackme0x00a (0x8048571))\n",
      "WARNING | 2022-03-13 10:03:10,878 | angr.storage.memory_mixins.default_filler_mixin | Filling register ebx with 4 unconstrained bytes referenced from 0x8048573 (__libc_csu_init+0x3 in crackme0x00a (0x8048573))\n"
     ]
    },
    {
     "data": {
      "text/plain": [
       "<SimulationManager with 1 active, 1 found>"
      ]
     },
     "execution_count": 31,
     "metadata": {},
     "output_type": "execute_result"
    }
   ],
   "source": [
    "sim_mgr.explore(find=lambda s: b\"Congrats\" in s.posix.dumps(1))\n"
   ]
  },
  {
   "cell_type": "code",
   "execution_count": 32,
   "metadata": {},
   "outputs": [
    {
     "name": "stdout",
     "output_type": "stream",
     "text": [
      "b'Enter password: Congrats!\\n'\n"
     ]
    }
   ],
   "source": [
    "found_state = sim_mgr.found[0]\n",
    "\n",
    "print(found_state.posix.dumps(1))"
   ]
  },
  {
   "cell_type": "code",
   "execution_count": 35,
   "metadata": {},
   "outputs": [],
   "source": [
    "flag = found_state.posix.dumps(0)"
   ]
  },
  {
   "cell_type": "code",
   "execution_count": 36,
   "metadata": {},
   "outputs": [
    {
     "name": "stdout",
     "output_type": "stream",
     "text": [
      "b'g00dJ0B!\\x00\\xd9\\xd9\\xd9\\xd9\\xd9\\xd9\\xd9\\xd9\\xd9\\xd9\\xd9\\xd9\\xd9\\xd9\\xd8\\xd9\\xd9\\xd9\\xd9\\xd9\\xd9\\xd9\\xd9\\xd9\\xd9\\xd9\\xd9\\xd9\\xd9\\xd9\\xd9\\xd9\\xd9\\xd9\\xd9\\xd9\\xd9\\xd9\\xd9\\xd9\\xd9\\xd9\\xd9\\xd9\\xd9\\xd9\\xd9\\xd9\\xd9\\xd9\\xd9'\n"
     ]
    }
   ],
   "source": [
    "print(flag)"
   ]
  },
  {
   "cell_type": "code",
   "execution_count": null,
   "metadata": {},
   "outputs": [],
   "source": []
  }
 ],
 "metadata": {
  "interpreter": {
   "hash": "b2a8fa49209b6e9728cc885d2f16e3940245581dccc7cd0488a7705df64b80eb"
  },
  "kernelspec": {
   "display_name": "Python 3.8.10 ('pwnenv': venv)",
   "language": "python",
   "name": "python3"
  },
  "language_info": {
   "codemirror_mode": {
    "name": "ipython",
    "version": 3
   },
   "file_extension": ".py",
   "mimetype": "text/x-python",
   "name": "python",
   "nbconvert_exporter": "python",
   "pygments_lexer": "ipython3",
   "version": "3.8.10"
  },
  "orig_nbformat": 4
 },
 "nbformat": 4,
 "nbformat_minor": 2
}
