{
 "cells": [
  {
   "cell_type": "code",
   "execution_count": 2,
   "metadata": {},
   "outputs": [],
   "source": [
    "#!/usr/bin/env python\n",
    "# -=-<[ Bismillahirrahmanirrahim ]>-=-\n",
    "# -*- coding: utf-8 -*-\n",
    "# @Date    : 2022-03-14 12:40:33\n",
    "# @Author  : Dahir Muhammad Dahir (dahirmuhammad3@gmail.com)\n",
    "# @Link    : link\n",
    "# @Version : 1.0.0\n",
    "\n",
    "\n",
    "\n",
    "import angr, claripy, monkeyhex\n",
    "\n",
    "base_address = 0x400000\n",
    "\n",
    "project = angr.Project(\"./otp\", auto_load_libs=False, main_opts={'base_addr': base_address})\n",
    "strncpy = project.loader.main_object.plt['strncpy']\n",
    "project.hook(strncpy, angr.SIM_PROCEDURES['libc']['strncpy']())\n"
   ]
  },
  {
   "cell_type": "code",
   "execution_count": 3,
   "metadata": {},
   "outputs": [],
   "source": [
    "key_arg_length = 100\n",
    "key_args = []\n",
    "\n",
    "\n",
    "for i in range(key_arg_length):\n",
    "    key_args.append(claripy.BVS(f\"x_{i}\", 8))\n",
    "\n",
    "key = claripy.Concat(*key_args)\n",
    "\n",
    "state = project.factory.entry_state(args=[\"./otp\", key])\n",
    "# state = project.factory.entry_state()\n"
   ]
  },
  {
   "cell_type": "code",
   "execution_count": 4,
   "metadata": {},
   "outputs": [],
   "source": [
    "for arg in key_args:\n",
    "    # state.solver.add(arg >= 0x30)\n",
    "    for x in range(0x1, 0x30):\n",
    "        state.solver.add(arg != x)\n",
    "    for i in range(0x3a, 0x61):\n",
    "        state.solver.add(arg != i)\n",
    "    state.solver.add(arg < 0x67)\n"
   ]
  },
  {
   "cell_type": "code",
   "execution_count": 5,
   "metadata": {},
   "outputs": [
    {
     "name": "stderr",
     "output_type": "stream",
     "text": [
      "WARNING | 2022-03-15 15:16:47,144 | angr.storage.memory_mixins.default_filler_mixin | The program is accessing memory or registers with an unspecified value. This could indicate unwanted behavior.\n",
      "WARNING | 2022-03-15 15:16:47,144 | angr.storage.memory_mixins.default_filler_mixin | angr will cope with this by generating an unconstrained symbolic variable and continuing. You can resolve this by:\n",
      "WARNING | 2022-03-15 15:16:47,145 | angr.storage.memory_mixins.default_filler_mixin | 1) setting a value to the initial state\n",
      "WARNING | 2022-03-15 15:16:47,145 | angr.storage.memory_mixins.default_filler_mixin | 2) adding the state option ZERO_FILL_UNCONSTRAINED_{MEMORY,REGISTERS}, to make unknown regions hold null\n",
      "WARNING | 2022-03-15 15:16:47,146 | angr.storage.memory_mixins.default_filler_mixin | 3) adding the state option SYMBOL_FILL_UNCONSTRAINED_{MEMORY,REGISTERS}, to suppress these messages.\n",
      "WARNING | 2022-03-15 15:16:47,146 | angr.storage.memory_mixins.default_filler_mixin | Filling memory at 0x7fffffffffeff2c with 4 unconstrained bytes referenced from 0x400685 (_start+0x5 in otp (0x685))\n",
      "WARNING | 2022-03-15 15:21:20,230 | angr.storage.memory_mixins.default_filler_mixin | Filling memory at 0x7fffffffffefe20 with 60 unconstrained bytes referenced from 0x400620 (PLT.strncpy+0x0 in otp (0x620))\n"
     ]
    }
   ],
   "source": [
    "sim_mgr = project.factory.simgr(state)\n",
    "sim_mgr.explore(find=0x4009d9, avoid=[0x4009c6, 0x4007b9])"
   ]
  },
  {
   "cell_type": "code",
   "execution_count": null,
   "metadata": {},
   "outputs": [
    {
     "ename": "NameError",
     "evalue": "name 'sim_mgr' is not defined",
     "output_type": "error",
     "traceback": [
      "\u001b[0;31m---------------------------------------------------------------------------\u001b[0m",
      "\u001b[0;31mNameError\u001b[0m                                 Traceback (most recent call last)",
      "\u001b[1;32m/home/dahir/workspace/wargames/picoctf/reverse_engineering/otp/angr_solve.ipynb Cell 5'\u001b[0m in \u001b[0;36m<cell line: 1>\u001b[0;34m()\u001b[0m\n\u001b[0;32m----> <a href='vscode-notebook-cell:/home/dahir/workspace/wargames/picoctf/reverse_engineering/otp/angr_solve.ipynb#ch0000004?line=0'>1</a>\u001b[0m sim_mgr\n",
      "\u001b[0;31mNameError\u001b[0m: name 'sim_mgr' is not defined"
     ]
    }
   ],
   "source": [
    "# sim_mgr.deadended[0].posix.dumps(1)\n",
    "# pruned_state = sim_mgr.pruned[0]\n",
    "\n",
    "# print(hex(pruned_state.addr))\n",
    "\n",
    "# for i in pruned_state.history.parents:\n",
    "#     print(i)"
   ]
  }
 ],
 "metadata": {
  "interpreter": {
   "hash": "b2a8fa49209b6e9728cc885d2f16e3940245581dccc7cd0488a7705df64b80eb"
  },
  "kernelspec": {
   "display_name": "Python 3.8.10 ('pwnenv': venv)",
   "language": "python",
   "name": "python3"
  },
  "language_info": {
   "codemirror_mode": {
    "name": "ipython",
    "version": 3
   },
   "file_extension": ".py",
   "mimetype": "text/x-python",
   "name": "python",
   "nbconvert_exporter": "python",
   "pygments_lexer": "ipython3",
   "version": "3.8.10"
  },
  "orig_nbformat": 4
 },
 "nbformat": 4,
 "nbformat_minor": 2
}
